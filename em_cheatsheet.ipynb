{
 "cells": [
  {
   "cell_type": "markdown",
   "metadata": {},
   "source": [
    "# EM number cheatsheet"
   ]
  },
  {
   "cell_type": "code",
   "execution_count": 31,
   "metadata": {},
   "outputs": [
    {
     "data": {
      "text/plain": [
       "'\\nOne = 1 = 10^0\\nTen = 10 = 10^1\\nHundred = 100 = 10^2\\nThousand = 1,000 = 10^3\\n万 / 萬 = 10,000 = 10^4\\nLakh = 100,000 = 10^5\\nMillion = 1,000,000 = 10^6\\nCrore = 10,000,000 = 10^7\\n亿 / 億 = 100,000,000 = 10^8\\nBillion = 1,000,000,000 = 10^9\\n'"
      ]
     },
     "execution_count": 31,
     "metadata": {},
     "output_type": "execute_result"
    }
   ],
   "source": [
    "# dependencies\n",
    "import re\n",
    "\n",
    "# cheatsheet\n",
    "\"\"\"\n",
    "One = 1 = 10^0\n",
    "Ten = 10 = 10^1\n",
    "Hundred = 100 = 10^2\n",
    "Thousand = 1,000 = 10^3\n",
    "万 / 萬 = 10,000 = 10^4\n",
    "Lakh = 100,000 = 10^5\n",
    "Million = 1,000,000 = 10^6\n",
    "Crore = 10,000,000 = 10^7\n",
    "亿 / 億 = 100,000,000 = 10^8\n",
    "Billion = 1,000,000,000 = 10^9\n",
    "\"\"\""
   ]
  },
  {
   "cell_type": "code",
   "execution_count": 32,
   "metadata": {},
   "outputs": [
    {
     "name": "stdout",
     "output_type": "stream",
     "text": [
      "124.5 crore\n"
     ]
    }
   ],
   "source": [
    "# input \n",
    "conversion_input = input()\n",
    "conversion_items = re.split(\" \", conversion_input)\n",
    "conversion_number = float(re.match(\"\\d+\\.?\\d+\", conversion_items[0])[0])\n",
    "conversion_string = re.match(\"\\w+\", conversion_items[1])"
   ]
  },
  {
   "cell_type": "code",
   "execution_count": 33,
   "metadata": {},
   "outputs": [
    {
     "name": "stdout",
     "output_type": "stream",
     "text": [
      "124.5 crore\n",
      "12400000.0\n",
      "<class 'float'>\n",
      "1,245,000,000.00\n"
     ]
    }
   ],
   "source": [
    "# converts words to numbers\n",
    "\n",
    "def word_to_num(word):\n",
    "    number = {\n",
    "        \"thousand\": 1E3,\n",
    "        \"万\": 1E4,\n",
    "        \"萬\": 1E4,\n",
    "        \"lakh\": 1E5,\n",
    "        \"million\": 1E6,\n",
    "        \"crore\": 1E7,\n",
    "        \"亿\": 1E8,\n",
    "        \"億\": 1E8,\n",
    "        \"billion\": 1E9,\n",
    "        \"trillion\": 1E12,\n",
    "        \"quadrillion\": 1E15\n",
    "        }\n",
    "    return number[word]\n",
    "\n",
    "# output\n",
    "\n",
    "try:\n",
    "    # print input\n",
    "    print(str(conversion_number) + \" \" + conversion_string[0])\n",
    "\n",
    "    # longform\n",
    "    print((word_to_num(conversion_string[0])*1.24))\n",
    "    conversion_output = conversion_number * word_to_num(conversion_string[0])\n",
    "    print(type(conversion_output))\n",
    "    print(f'{conversion_output:,.2f}')\n",
    "except:\n",
    "    raise ValueError(\"You have entered the wrong type of variable\")"
   ]
  },
  {
   "cell_type": "code",
   "execution_count": 39,
   "metadata": {},
   "outputs": [
    {
     "name": "stdout",
     "output_type": "stream",
     "text": [
      "154\n"
     ]
    }
   ],
   "source": [
    "conversion_input = float(input())"
   ]
  },
  {
   "cell_type": "code",
   "execution_count": 40,
   "metadata": {},
   "outputs": [],
   "source": [
    "# converts numbers to words\n",
    "\n",
    "number = conversion_input\n",
    "\n",
    "def num_to_word(number):\n",
    "    if number < 1E6:\n",
    "        number = number\n",
    "        word = \"\"\n",
    "    elif number > 1E6 and number < 1E9:\n",
    "        number /= 1E6\n",
    "        word = \"million\"\n",
    "    elif number > 1E9 and number < 1E12:\n",
    "        number /= 1E9\n",
    "        word = \"billion\"\n",
    "    elif number > 1E12 and number < 1E15:\n",
    "        number /= 1E12\n",
    "        word = \"trillion\"\n",
    "    elif number > 1E15:\n",
    "        number /= 1E15\n",
    "        word = \"quadrillion\"\n",
    "    else:\n",
    "        pass\n",
    "    return number, word"
   ]
  },
  {
   "cell_type": "code",
   "execution_count": 41,
   "metadata": {},
   "outputs": [
    {
     "name": "stdout",
     "output_type": "stream",
     "text": [
      "154.0 \n"
     ]
    }
   ],
   "source": [
    "print(f'{num_to_word(number)[0]:.1f} {num_to_word(number)[1]}')"
   ]
  },
  {
   "cell_type": "code",
   "execution_count": null,
   "metadata": {},
   "outputs": [],
   "source": []
  }
 ],
 "metadata": {
  "kernelspec": {
   "display_name": "Python 3",
   "language": "python",
   "name": "python3"
  },
  "language_info": {
   "codemirror_mode": {
    "name": "ipython",
    "version": 3
   },
   "file_extension": ".py",
   "mimetype": "text/x-python",
   "name": "python",
   "nbconvert_exporter": "python",
   "pygments_lexer": "ipython3",
   "version": "3.8.3"
  }
 },
 "nbformat": 4,
 "nbformat_minor": 4
}
