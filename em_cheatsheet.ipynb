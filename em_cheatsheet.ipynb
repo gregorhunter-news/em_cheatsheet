{
 "cells": [
  {
   "cell_type": "markdown",
   "metadata": {},
   "source": [
    "# EM number cheatsheet"
   ]
  },
  {
   "cell_type": "code",
   "execution_count": 290,
   "metadata": {},
   "outputs": [],
   "source": [
    "# dependencies\n",
    "from ipywidgets import interact, interactive, fixed\n",
    "import ipywidgets as widgets\n",
    "\n",
    "# cheatsheet\n",
    "\"\"\"\n",
    "One = 1 = 10^0\n",
    "Ten = 10 = 10^1\n",
    "Hundred = 100 = 10^2\n",
    "Thousand = 1,000 = 10^3\n",
    "万 / 萬 = 10,000 = 10^4\n",
    "Lakh = 100,000 = 10^5\n",
    "Million = 1,000,000 = 10^6\n",
    "Crore = 10,000,000 = 10^7\n",
    "亿 / 億 = 100,000,000 = 10^8\n",
    "Billion = 1,000,000,000 = 10^9\n",
    "\"\"\""
   ]
  },
  {
   "cell_type": "code",
   "execution_count": 296,
   "metadata": {},
   "outputs": [],
   "source": [
    "# converts words to numbers\n",
    "\n",
    "def text_conversion(value, units):\n",
    "    \n",
    "    def word_to_num(value, units):\n",
    "        number = {\n",
    "            \"\": 0,\n",
    "            \"units\" : 1,\n",
    "            \"thousand\": 1E3,\n",
    "            \"万\": 1E4,\n",
    "            \"萬\": 1E4,\n",
    "            \"lakh\": 1E5,\n",
    "            \"million\": 1E6,\n",
    "            \"crore\": 1E7,\n",
    "            \"亿\": 1E8,\n",
    "            \"億\": 1E8,\n",
    "            \"billion\": 1E9,\n",
    "            \"trillion\": 1E12,\n",
    "            \"quadrillion\": 1E15\n",
    "            }\n",
    "        return value, number[units]\n",
    "\n",
    "    def num_to_word(number=0):\n",
    "        \n",
    "        # spell out numbers 0 - 9\n",
    "        if number == 0:\n",
    "            word = \"zero\"\n",
    "        elif number == 1:\n",
    "            word = \"one\"\n",
    "        elif number == 2:\n",
    "            word = \"two\"\n",
    "        elif number == 3:\n",
    "            word = \"three\"\n",
    "        elif number == 4:\n",
    "            word = \"four\"\n",
    "        elif number == 5:\n",
    "            word = \"five\"\n",
    "        elif number == 6:\n",
    "            word = \"six\"\n",
    "        elif number == 7:\n",
    "            number = \"\"\n",
    "            word = \"seven\"\n",
    "        elif number == 8:\n",
    "            number = \"\"\n",
    "            word = \"eight\"\n",
    "        elif number == 9:\n",
    "            number = \"\"\n",
    "            word = \"nine\"   \n",
    "            \n",
    "            \n",
    "        elif number >= 10 and number < 1E6:\n",
    "            number = number\n",
    "            word = \"\"\n",
    "            \n",
    "        # for numbers in the millions spell out units\n",
    "        \n",
    "        elif number >= 1E6 and number < 1E9:\n",
    "            number /= 1E6\n",
    "            word = \" million\"\n",
    "        elif number >= 1E9 and number < 1E12:\n",
    "            number /= 1E9\n",
    "            word = \" billion\"\n",
    "        elif number >= 1E12 and number < 1E15:\n",
    "            number /= 1E12\n",
    "            word = \" trillion\"\n",
    "        elif number >= 1E15 and number < 1E18:\n",
    "            number /= 1E15\n",
    "            word = \" quadrillion\"\n",
    "        elif number >= 1E18 and number < 1E21:\n",
    "            number /= 1E18\n",
    "            word = \" quintillion\"\n",
    "        elif number >= 1E21:\n",
    "            number /= 1E21\n",
    "            word = \" sextillion but you broke it\"\n",
    "        else:\n",
    "            number = 0\n",
    "            pass\n",
    "        return number, word\n",
    "\n",
    "    # output\n",
    "\n",
    "    try:\n",
    "        # convert take input\n",
    "        if value == \"\":\n",
    "            value = 0.0\n",
    "        value = float(value)            \n",
    "        \n",
    "        # print output\n",
    "        new_value, new_units = word_to_num(value, units)\n",
    "        conversion_output = new_value * new_units  \n",
    "        style_value, style_units = num_to_word(conversion_output)\n",
    "        \n",
    "        if conversion_output < 10.0 and conversion_output in range(0,9,1):\n",
    "            output = f\"In AP style that's {style_units}.\"\n",
    "        elif conversion_output % 1 == 0:\n",
    "            output = f\"{value} {units} is equal to {conversion_output:,.2f}. In AP style that's {style_value:,.0f}{style_units}.\"\n",
    "        else:\n",
    "            output = f\"{value} {units} is equal to {conversion_output:,.2f}. In AP style that's {style_value:,.1f}{style_units}.\"\n",
    "        \n",
    "        # longform\n",
    "\n",
    "        print(output)\n",
    "    except:\n",
    "        raise ValueError(\"You have entered the wrong type of variable. Try a round number or a decimal.\")"
   ]
  },
  {
   "cell_type": "code",
   "execution_count": null,
   "metadata": {},
   "outputs": [],
   "source": []
  },
  {
   "cell_type": "code",
   "execution_count": 297,
   "metadata": {},
   "outputs": [
    {
     "data": {
      "application/vnd.jupyter.widget-view+json": {
       "model_id": "704b7b28eef94d0aac982a5edb435f61",
       "version_major": 2,
       "version_minor": 0
      },
      "text/plain": [
       "interactive(children=(Text(value='100', description='value'), Dropdown(description='units', options=('units', …"
      ]
     },
     "metadata": {},
     "output_type": "display_data"
    }
   ],
   "source": [
    "interact(text_conversion,value=\"100\", units=[\"units\", \"thousand\",\"万\",\"萬\",\"lakh\",\"million\",\"crore\",\"亿\",\"億\",\"billion\",\"trillion\",\"quadrillion\"]);\n"
   ]
  },
  {
   "cell_type": "code",
   "execution_count": 273,
   "metadata": {},
   "outputs": [],
   "source": [
    "# converts numbers to words\n",
    "\n",
    "number = conversion_input\n",
    "\n",
    "def num_to_word(number):\n",
    "    if number < 1E6:\n",
    "        number = number\n",
    "        word = \"\"\n",
    "    elif number > 1E6 and number < 1E9:\n",
    "        number /= 1E6\n",
    "        word = \"million\"\n",
    "    elif number > 1E9 and number < 1E12:\n",
    "        number /= 1E9\n",
    "        word = \"billion\"\n",
    "    elif number > 1E12 and number < 1E15:\n",
    "        number /= 1E12\n",
    "        word = \"trillion\"\n",
    "    elif number > 1E15:\n",
    "        number /= 1E15\n",
    "        word = \"quadrillion\"\n",
    "    else:\n",
    "        pass\n",
    "    return number, word"
   ]
  },
  {
   "cell_type": "code",
   "execution_count": 214,
   "metadata": {},
   "outputs": [
    {
     "name": "stdout",
     "output_type": "stream",
     "text": [
      "123.2 billion\n"
     ]
    }
   ],
   "source": [
    "print(f'{num_to_word(number)[0]:.1f} {num_to_word(number)[1]}')"
   ]
  },
  {
   "cell_type": "code",
   "execution_count": null,
   "metadata": {},
   "outputs": [],
   "source": []
  }
 ],
 "metadata": {
  "kernelspec": {
   "display_name": "Python 3",
   "language": "python",
   "name": "python3"
  },
  "language_info": {
   "codemirror_mode": {
    "name": "ipython",
    "version": 3
   },
   "file_extension": ".py",
   "mimetype": "text/x-python",
   "name": "python",
   "nbconvert_exporter": "python",
   "pygments_lexer": "ipython3",
   "version": "3.8.3"
  }
 },
 "nbformat": 4,
 "nbformat_minor": 4
}
